{
 "cells": [
  {
   "cell_type": "code",
   "execution_count": 2,
   "metadata": {},
   "outputs": [
    {
     "name": "stdout",
     "output_type": "stream",
     "text": [
      "Requirement already satisfied: seaborn in c:\\users\\bit_r45\\anaconda3\\lib\\site-packages (0.10.1)\n",
      "Requirement already satisfied: numpy>=1.13.3 in c:\\users\\bit_r45\\anaconda3\\lib\\site-packages (from seaborn) (1.18.5)\n",
      "Requirement already satisfied: scipy>=1.0.1 in c:\\users\\bit_r45\\anaconda3\\lib\\site-packages (from seaborn) (1.5.0)\n",
      "Requirement already satisfied: pandas>=0.22.0 in c:\\users\\bit_r45\\anaconda3\\lib\\site-packages (from seaborn) (1.0.5)\n",
      "Requirement already satisfied: matplotlib>=2.1.2 in c:\\users\\bit_r45\\anaconda3\\lib\\site-packages (from seaborn) (3.2.2)\n",
      "Requirement already satisfied: python-dateutil>=2.6.1 in c:\\users\\bit_r45\\anaconda3\\lib\\site-packages (from pandas>=0.22.0->seaborn) (2.8.1)\n",
      "Requirement already satisfied: pytz>=2017.2 in c:\\users\\bit_r45\\anaconda3\\lib\\site-packages (from pandas>=0.22.0->seaborn) (2020.1)\n",
      "Requirement already satisfied: cycler>=0.10 in c:\\users\\bit_r45\\anaconda3\\lib\\site-packages (from matplotlib>=2.1.2->seaborn) (0.10.0)\n",
      "Requirement already satisfied: kiwisolver>=1.0.1 in c:\\users\\bit_r45\\anaconda3\\lib\\site-packages (from matplotlib>=2.1.2->seaborn) (1.2.0)\n",
      "Requirement already satisfied: pyparsing!=2.0.4,!=2.1.2,!=2.1.6,>=2.0.1 in c:\\users\\bit_r45\\anaconda3\\lib\\site-packages (from matplotlib>=2.1.2->seaborn) (2.4.7)\n",
      "Requirement already satisfied: six>=1.5 in c:\\users\\bit_r45\\anaconda3\\lib\\site-packages (from python-dateutil>=2.6.1->pandas>=0.22.0->seaborn) (1.15.0)\n"
     ]
    }
   ],
   "source": [
    "!pip install seaborn"
   ]
  },
  {
   "cell_type": "code",
   "execution_count": 3,
   "metadata": {},
   "outputs": [
    {
     "name": "stdout",
     "output_type": "stream",
     "text": [
      "Package                            Version\n",
      "---------------------------------- -------------------\n",
      "alabaster                          0.7.12\n",
      "anaconda-client                    1.7.2\n",
      "anaconda-navigator                 1.9.12\n",
      "anaconda-project                   0.8.3\n",
      "argh                               0.26.2\n",
      "asn1crypto                         1.3.0\n",
      "astroid                            2.4.2\n",
      "astropy                            4.0.1.post1\n",
      "atomicwrites                       1.4.0\n",
      "attrs                              19.3.0\n",
      "autopep8                           1.5.3\n",
      "Babel                              2.8.0\n",
      "backcall                           0.2.0\n",
      "backports.functools-lru-cache      1.6.1\n",
      "backports.shutil-get-terminal-size 1.0.0\n",
      "backports.tempfile                 1.0\n",
      "backports.weakref                  1.0.post1\n",
      "bcrypt                             3.1.7\n",
      "beautifulsoup4                     4.9.1\n",
      "bitarray                           1.4.0\n",
      "bkcharts                           0.2\n",
      "bleach                             3.1.5\n",
      "bokeh                              2.1.1\n",
      "boto                               2.49.0\n",
      "Bottleneck                         1.3.2\n",
      "brotlipy                           0.7.0\n",
      "certifi                            2020.6.20\n",
      "cffi                               1.14.0\n",
      "chardet                            3.0.4\n",
      "click                              7.1.2\n",
      "cloudpickle                        1.5.0\n",
      "clyent                             1.2.2\n",
      "colorama                           0.4.3\n",
      "comtypes                           1.1.7\n",
      "conda                              4.8.3\n",
      "conda-build                        3.18.11\n",
      "conda-package-handling             1.7.0\n",
      "conda-verify                       3.4.2\n",
      "contextlib2                        0.6.0.post1\n",
      "cryptography                       2.9.2\n",
      "cx-Oracle                          8.0.1\n",
      "cycler                             0.10.0\n",
      "Cython                             0.29.21\n",
      "cytoolz                            0.10.1\n",
      "dask                               2.20.0\n",
      "decorator                          4.4.2\n",
      "defusedxml                         0.6.0\n",
      "diff-match-patch                   20200713\n",
      "distributed                        2.20.0\n",
      "docutils                           0.16\n",
      "entrypoints                        0.3\n",
      "et-xmlfile                         1.0.1\n",
      "fastcache                          1.1.0\n",
      "filelock                           3.0.12\n",
      "flake8                             3.8.3\n",
      "Flask                              1.1.2\n",
      "fsspec                             0.7.4\n",
      "future                             0.18.2\n",
      "gevent                             20.6.2\n",
      "glob2                              0.7\n",
      "gmpy2                              2.0.8\n",
      "greenlet                           0.4.16\n",
      "h5py                               2.10.0\n",
      "HeapDict                           1.0.1\n",
      "html5lib                           1.1\n",
      "idna                               2.10\n",
      "imageio                            2.9.0\n",
      "imagesize                          1.2.0\n",
      "importlib-metadata                 1.7.0\n",
      "intervaltree                       3.0.2\n",
      "ipykernel                          5.3.2\n",
      "ipython                            7.16.1\n",
      "ipython-genutils                   0.2.0\n",
      "ipywidgets                         7.5.1\n",
      "isort                              4.3.21\n",
      "itsdangerous                       1.1.0\n",
      "jdcal                              1.4.1\n",
      "jedi                               0.17.1\n",
      "Jinja2                             2.11.2\n",
      "joblib                             0.16.0\n",
      "json5                              0.9.5\n",
      "jsonschema                         3.2.0\n",
      "jupyter                            1.0.0\n",
      "jupyter-client                     6.1.6\n",
      "jupyter-console                    6.1.0\n",
      "jupyter-core                       4.6.3\n",
      "jupyterlab                         2.1.5\n",
      "jupyterlab-server                  1.2.0\n",
      "keyring                            21.2.1\n",
      "kiwisolver                         1.2.0\n",
      "lazy-object-proxy                  1.4.3\n",
      "libarchive-c                       2.9\n",
      "llvmlite                           0.33.0+1.g022ab0f\n",
      "locket                             0.2.0\n",
      "lxml                               4.5.2\n",
      "MarkupSafe                         1.1.1\n",
      "matplotlib                         3.2.2\n",
      "mccabe                             0.6.1\n",
      "menuinst                           1.4.16\n",
      "mistune                            0.8.4\n",
      "mkl-fft                            1.1.0\n",
      "mkl-random                         1.1.1\n",
      "mkl-service                        2.3.0\n",
      "mock                               4.0.2\n",
      "more-itertools                     8.4.0\n",
      "mpmath                             1.1.0\n",
      "msgpack                            1.0.0\n",
      "multipledispatch                   0.6.0\n",
      "navigator-updater                  0.2.1\n",
      "nbconvert                          5.6.1\n",
      "nbformat                           5.0.7\n",
      "networkx                           2.4\n",
      "nltk                               3.5\n",
      "nose                               1.3.7\n",
      "notebook                           6.0.3\n",
      "numba                              0.50.1\n",
      "numexpr                            2.7.1\n",
      "numpy                              1.18.5\n",
      "numpydoc                           1.1.0\n",
      "olefile                            0.46\n",
      "openpyxl                           3.0.4\n",
      "packaging                          20.4\n",
      "pandas                             1.0.5\n",
      "pandocfilters                      1.4.2\n",
      "paramiko                           2.7.1\n",
      "parso                              0.7.0\n",
      "partd                              1.1.0\n",
      "path                               13.1.0\n",
      "pathlib2                           2.3.5\n",
      "pathtools                          0.1.2\n",
      "patsy                              0.5.1\n",
      "pep8                               1.7.1\n",
      "pexpect                            4.8.0\n",
      "pickleshare                        0.7.5\n",
      "Pillow                             7.2.0\n",
      "pip                                20.1.1\n",
      "pkginfo                            1.5.0.1\n",
      "pluggy                             0.13.1\n",
      "ply                                3.11\n",
      "prometheus-client                  0.8.0\n",
      "prompt-toolkit                     3.0.5\n",
      "psutil                             5.7.0\n",
      "py                                 1.9.0\n",
      "pycodestyle                        2.6.0\n",
      "pycosat                            0.6.3\n",
      "pycparser                          2.20\n",
      "pycurl                             7.43.0.5\n",
      "pydocstyle                         5.0.2\n",
      "pyflakes                           2.2.0\n",
      "Pygments                           2.6.1\n",
      "pylint                             2.5.3\n",
      "PyNaCl                             1.4.0\n",
      "pyodbc                             4.0.0-unsupported\n",
      "pyOpenSSL                          19.1.0\n",
      "pyparsing                          2.4.7\n",
      "pyreadline                         2.1\n",
      "pyrsistent                         0.16.0\n",
      "PySocks                            1.7.1\n",
      "pytest                             5.4.3\n",
      "python-dateutil                    2.8.1\n",
      "python-jsonrpc-server              0.3.4\n",
      "python-language-server             0.34.1\n",
      "pytz                               2020.1\n",
      "PyWavelets                         1.1.1\n",
      "pywin32                            227\n",
      "pywin32-ctypes                     0.2.0\n",
      "pywinpty                           0.5.7\n",
      "PyYAML                             5.3.1\n",
      "pyzmq                              19.0.1\n",
      "QDarkStyle                         2.8.1\n",
      "QtAwesome                          0.7.2\n",
      "qtconsole                          4.7.5\n",
      "QtPy                               1.9.0\n",
      "regex                              2020.6.8\n",
      "requests                           2.24.0\n",
      "rope                               0.17.0\n",
      "Rtree                              0.9.4\n",
      "ruamel-yaml                        0.15.87\n",
      "scikit-image                       0.16.2\n",
      "scikit-learn                       0.23.1\n",
      "scipy                              1.5.0\n",
      "seaborn                            0.10.1\n",
      "Send2Trash                         1.5.0\n",
      "setuptools                         49.2.0.post20200714\n",
      "simplegeneric                      0.8.1\n",
      "singledispatch                     3.4.0.3\n",
      "sip                                4.19.13\n",
      "six                                1.15.0\n",
      "snowballstemmer                    2.0.0\n",
      "sortedcollections                  1.2.1\n",
      "sortedcontainers                   2.2.2\n",
      "soupsieve                          2.0.1\n",
      "Sphinx                             3.1.2\n",
      "sphinxcontrib-applehelp            1.0.2\n",
      "sphinxcontrib-devhelp              1.0.2\n",
      "sphinxcontrib-htmlhelp             1.0.3\n",
      "sphinxcontrib-jsmath               1.0.1\n",
      "sphinxcontrib-qthelp               1.0.3\n",
      "sphinxcontrib-serializinghtml      1.1.4\n",
      "sphinxcontrib-websupport           1.2.3\n",
      "spyder                             4.1.4\n",
      "spyder-kernels                     1.9.2\n",
      "SQLAlchemy                         1.3.18\n",
      "statsmodels                        0.11.1\n",
      "sympy                              1.6.1\n",
      "tables                             3.6.1\n",
      "tblib                              1.6.0\n",
      "terminado                          0.8.3\n",
      "testpath                           0.4.4\n",
      "threadpoolctl                      2.1.0\n",
      "toml                               0.10.1\n",
      "toolz                              0.10.0\n",
      "tornado                            6.0.4\n",
      "tqdm                               4.47.0\n",
      "traitlets                          4.3.3\n",
      "typing-extensions                  3.7.4.2\n",
      "ujson                              1.35\n",
      "unicodecsv                         0.14.1\n",
      "urllib3                            1.25.9\n",
      "watchdog                           0.10.3\n",
      "wcwidth                            0.2.5\n",
      "webencodings                       0.5.1\n",
      "Werkzeug                           1.0.1\n",
      "wheel                              0.34.2\n",
      "widgetsnbextension                 3.5.1\n",
      "win-inet-pton                      1.1.0\n",
      "win-unicode-console                0.5\n",
      "wincertstore                       0.2\n",
      "wrapt                              1.11.2\n",
      "xlrd                               1.2.0\n",
      "XlsxWriter                         1.2.9\n",
      "xlwings                            0.19.5\n",
      "xlwt                               1.3.0\n",
      "xmltodict                          0.12.0\n",
      "yapf                               0.30.0\n",
      "zict                               2.0.0\n",
      "zipp                               3.1.0\n",
      "zope.event                         4.4\n",
      "zope.interface                     4.7.1\n"
     ]
    }
   ],
   "source": [
    "!pip list"
   ]
  },
  {
   "cell_type": "code",
   "execution_count": 1,
   "metadata": {},
   "outputs": [],
   "source": [
    "import seaborn as sns"
   ]
  },
  {
   "cell_type": "code",
   "execution_count": 4,
   "metadata": {},
   "outputs": [
    {
     "name": "stdout",
     "output_type": "stream",
     "text": [
      "Collecting document\n",
      "  Downloading document-1.0.tar.gz (8.7 kB)\n",
      "Building wheels for collected packages: document\n",
      "  Building wheel for document (setup.py): started\n",
      "  Building wheel for document (setup.py): finished with status 'done'\n",
      "  Created wheel for document: filename=document-1.0-py3-none-any.whl size=8787 sha256=2d57092a5b084d282f2508540ed3accd8d155cde9c7ed8129c5c0f2c955e85bb\n",
      "  Stored in directory: c:\\users\\bit_r45\\appdata\\local\\pip\\cache\\wheels\\14\\af\\28\\d0cf9e79adc51f61d84d70f23c3af5c88d6428c67afbb02bdb\n",
      "Successfully built document\n",
      "Installing collected packages: document\n",
      "Successfully installed document-1.0\n"
     ]
    }
   ],
   "source": [
    "!pip install document"
   ]
  },
  {
   "cell_type": "code",
   "execution_count": 5,
   "metadata": {},
   "outputs": [],
   "source": [
    "import time\n",
    "\n",
    "import document as document"
   ]
  },
  {
   "cell_type": "code",
   "execution_count": 6,
   "metadata": {},
   "outputs": [
    {
     "name": "stdout",
     "output_type": "stream",
     "text": [
      "Collecting selenium\n",
      "  Downloading selenium-3.141.0-py2.py3-none-any.whl (904 kB)\n",
      "Requirement already satisfied: urllib3 in c:\\users\\bit_r45\\anaconda3\\lib\\site-packages (from selenium) (1.25.9)\n",
      "Installing collected packages: selenium\n",
      "Successfully installed selenium-3.141.0\n"
     ]
    }
   ],
   "source": [
    "!pip install selenium"
   ]
  },
  {
   "cell_type": "code",
   "execution_count": 7,
   "metadata": {},
   "outputs": [],
   "source": [
    "from selenium.webdriver.common.by import By\n",
    "from selenium.webdriver.common.keys import Keys\n",
    "from selenium import webdriver"
   ]
  },
  {
   "cell_type": "code",
   "execution_count": 9,
   "metadata": {},
   "outputs": [
    {
     "name": "stdout",
     "output_type": "stream",
     "text": [
      "Collecting pyautogui\n",
      "  Downloading PyAutoGUI-0.9.52.tar.gz (55 kB)\n",
      "Collecting pymsgbox\n",
      "  Downloading PyMsgBox-1.0.9.tar.gz (18 kB)\n",
      "  Installing build dependencies: started\n",
      "  Installing build dependencies: finished with status 'done'\n",
      "  Getting requirements to build wheel: started\n",
      "  Getting requirements to build wheel: finished with status 'done'\n",
      "    Preparing wheel metadata: started\n",
      "    Preparing wheel metadata: finished with status 'done'\n",
      "Collecting PyTweening>=1.0.1\n",
      "  Downloading PyTweening-1.0.3.zip (15 kB)\n",
      "Collecting pyscreeze>=0.1.21\n",
      "  Downloading PyScreeze-0.1.26.tar.gz (23 kB)\n",
      "Collecting pygetwindow>=0.0.5\n",
      "  Downloading PyGetWindow-0.0.9.tar.gz (9.7 kB)\n",
      "Collecting mouseinfo\n",
      "  Downloading MouseInfo-0.1.3.tar.gz (10 kB)\n",
      "Requirement already satisfied: Pillow>=6.2.1 in c:\\users\\bit_r45\\anaconda3\\lib\\site-packages (from pyscreeze>=0.1.21->pyautogui) (7.2.0)\n",
      "Collecting pyrect\n",
      "  Downloading PyRect-0.1.4.tar.gz (15 kB)\n",
      "Collecting pyperclip\n",
      "  Downloading pyperclip-1.8.1.tar.gz (20 kB)\n",
      "Building wheels for collected packages: pyautogui, pymsgbox, PyTweening, pyscreeze, pygetwindow, mouseinfo, pyrect, pyperclip\n",
      "  Building wheel for pyautogui (setup.py): started\n",
      "  Building wheel for pyautogui (setup.py): finished with status 'done'\n",
      "  Created wheel for pyautogui: filename=PyAutoGUI-0.9.52-py3-none-any.whl size=35198 sha256=72ad3b957d7af823f3d7ba703d756fcbf7984069c9d7a9f3568bda136133e019\n",
      "  Stored in directory: c:\\users\\bit_r45\\appdata\\local\\pip\\cache\\wheels\\4d\\0d\\6a\\4258cb741835ea9ce7897652ae88272d3baf5cb1944c1984aa\n",
      "  Building wheel for pymsgbox (PEP 517): started\n",
      "  Building wheel for pymsgbox (PEP 517): finished with status 'done'\n",
      "  Created wheel for pymsgbox: filename=PyMsgBox-1.0.9-py3-none-any.whl size=7425 sha256=bbd4146deba52c6ca1eb9c4bff7a67061ab0cf43f74dfa4e3e92a58238b05781\n",
      "  Stored in directory: c:\\users\\bit_r45\\appdata\\local\\pip\\cache\\wheels\\91\\28\\0d\\f4eb606d38276836237d6dc2abf094241e6db5682a126e0389\n",
      "  Building wheel for PyTweening (setup.py): started\n",
      "  Building wheel for PyTweening (setup.py): finished with status 'done'\n",
      "  Created wheel for PyTweening: filename=PyTweening-1.0.3-py3-none-any.whl size=3820 sha256=898b3318cdef2d6c32ececfd915c6b462959a9b0696d11ed48e45acaf05766a4\n",
      "  Stored in directory: c:\\users\\bit_r45\\appdata\\local\\pip\\cache\\wheels\\e7\\50\\20\\790fbd95739abfdf0348bef99d5cc0c7c2930a19a91f602ddc\n",
      "  Building wheel for pyscreeze (setup.py): started\n",
      "  Building wheel for pyscreeze (setup.py): finished with status 'done'\n",
      "  Created wheel for pyscreeze: filename=PyScreeze-0.1.26-py3-none-any.whl size=11938 sha256=5eb0d30f0d0731769ac1ca9c1064889b9cb4303ee8e0491d62db62e69cda78ac\n",
      "  Stored in directory: c:\\users\\bit_r45\\appdata\\local\\pip\\cache\\wheels\\b9\\1c\\f2\\f6a3a846873ff464c47a46baa7edc12fb5f266d296494201fe\n",
      "  Building wheel for pygetwindow (setup.py): started\n",
      "  Building wheel for pygetwindow (setup.py): finished with status 'done'\n",
      "  Created wheel for pygetwindow: filename=PyGetWindow-0.0.9-py3-none-any.whl size=11083 sha256=0923823f7270c247f7ff362162056c2b40b33249c0f31b3e314e56d70e075d4a\n",
      "  Stored in directory: c:\\users\\bit_r45\\appdata\\local\\pip\\cache\\wheels\\91\\e3\\04\\184bda98ec7f7d5f0ba1f372bcf7b3ba86325151ae1dd690fe\n",
      "  Building wheel for mouseinfo (setup.py): started\n",
      "  Building wheel for mouseinfo (setup.py): finished with status 'done'\n",
      "  Created wheel for mouseinfo: filename=MouseInfo-0.1.3-py3-none-any.whl size=10910 sha256=3e5ff684f4fdae3c02a99fc162cfa1619694a2c942819c051a98a531db460625\n",
      "  Stored in directory: c:\\users\\bit_r45\\appdata\\local\\pip\\cache\\wheels\\d1\\72\\fb\\35f403de66285df8ecca7049bcc61bfb57aba0f76d1f08f7eb\n",
      "  Building wheel for pyrect (setup.py): started\n",
      "  Building wheel for pyrect (setup.py): finished with status 'done'\n",
      "  Created wheel for pyrect: filename=PyRect-0.1.4-py2.py3-none-any.whl size=9552 sha256=c00f21930a6d6b4d6374584e9f7d5e4270fd24ee360715ce3a4c101bc55361d5\n",
      "  Stored in directory: c:\\users\\bit_r45\\appdata\\local\\pip\\cache\\wheels\\d1\\e4\\47\\c62f8291b16b6df7e89ac885881ff71f35ca04c6e384251de9\n",
      "  Building wheel for pyperclip (setup.py): started\n",
      "  Building wheel for pyperclip (setup.py): finished with status 'done'\n",
      "  Created wheel for pyperclip: filename=pyperclip-1.8.1-py3-none-any.whl size=11124 sha256=1a04743eeba80d1bd19dab26b47760bf10245c612814f17abd1f65df12ea233b\n",
      "  Stored in directory: c:\\users\\bit_r45\\appdata\\local\\pip\\cache\\wheels\\67\\0c\\ba\\1468f38115898442e13f99a19a8dcf1e0ca73488053ef7b388\n",
      "Successfully built pyautogui pymsgbox PyTweening pyscreeze pygetwindow mouseinfo pyrect pyperclip\n",
      "Installing collected packages: pymsgbox, PyTweening, pyscreeze, pyrect, pygetwindow, pyperclip, mouseinfo, pyautogui\n",
      "Successfully installed PyTweening-1.0.3 mouseinfo-0.1.3 pyautogui-0.9.52 pygetwindow-0.0.9 pymsgbox-1.0.9 pyperclip-1.8.1 pyrect-0.1.4 pyscreeze-0.1.26\n"
     ]
    }
   ],
   "source": [
    "!pip install pyautogui"
   ]
  },
  {
   "cell_type": "code",
   "execution_count": 10,
   "metadata": {},
   "outputs": [],
   "source": [
    "import pyautogui"
   ]
  },
  {
   "cell_type": "code",
   "execution_count": 11,
   "metadata": {},
   "outputs": [
    {
     "name": "stdout",
     "output_type": "stream",
     "text": [
      "Collecting bs4\n",
      "  Downloading bs4-0.0.1.tar.gz (1.1 kB)\n",
      "Requirement already satisfied: beautifulsoup4 in c:\\users\\bit_r45\\anaconda3\\lib\\site-packages (from bs4) (4.9.1)\n",
      "Requirement already satisfied: soupsieve>1.2 in c:\\users\\bit_r45\\anaconda3\\lib\\site-packages (from beautifulsoup4->bs4) (2.0.1)\n",
      "Building wheels for collected packages: bs4\n",
      "  Building wheel for bs4 (setup.py): started\n",
      "  Building wheel for bs4 (setup.py): finished with status 'done'\n",
      "  Created wheel for bs4: filename=bs4-0.0.1-py3-none-any.whl size=1279 sha256=0badb5c0ad7e620e9939c5e9e600741d7a64c240f61e335e8b1c585e8a6964b8\n",
      "  Stored in directory: c:\\users\\bit_r45\\appdata\\local\\pip\\cache\\wheels\\75\\78\\21\\68b124549c9bdc94f822c02fb9aa3578a669843f9767776bca\n",
      "Successfully built bs4\n",
      "Installing collected packages: bs4\n",
      "Successfully installed bs4-0.0.1\n"
     ]
    }
   ],
   "source": [
    "!pip install bs4"
   ]
  },
  {
   "cell_type": "code",
   "execution_count": 2,
   "metadata": {},
   "outputs": [],
   "source": [
    "from bs4 import BeautifulSoup\n",
    "from datetime import datetime"
   ]
  },
  {
   "cell_type": "code",
   "execution_count": 26,
   "metadata": {},
   "outputs": [],
   "source": [
    "from selenium import webdriver\n",
    "from bs4 import BeautifulSoup\n",
    "import time\n",
    "import pandas as pd\n",
    "import numpy as np\n",
    "chrome_options = webdriver.ChromeOptions()\n",
    "# chrome_options.add_argument('headless')\n",
    "# chrome_options.add_argument('window-size=1920x1080')\n",
    "# chrome_options.add_argument('disable-gpu')\n",
    "# chrome_options.add_argument('lang=ko_KR')\n",
    "driver = webdriver.Chrome('chromedriver.exe', options=chrome_options)\n",
    "# 다음 주소로 이동\n",
    "url = 'https://map.naver.com/v5/search/강남역%20맛집?c=14140182.6030886,4508742.0199864,15,0,0,0,dh'\n",
    "driver.get(url)\n",
    "delay = 3\n",
    "driver.implicitly_wait(delay)\n",
    "# driver.get_screenshot_as_file('s0.png')\n",
    "# print(driver.page_source)   # html 소스 보기\n",
    "# 데이터 리스트로 저장\n",
    "name = []\n",
    "category = []\n",
    "rating = []\n",
    "review_count = []\n",
    "blog_count = []\n",
    "location = []\n",
    "# #document 경로를 찾고 switch_to.frame 으로 상호 목록 html 을 전환함\n",
    "scroll_frame = driver.find_element_by_id('searchIframe')\n",
    "driver.switch_to.frame(scroll_frame)\n",
    "driver.implicitly_wait(delay)\n",
    "# while True:\n",
    "#     button_element = driver.find_elements_by_class_name('_3pA6R')[1]\n",
    "#     print(button_element.value_of_css_property('opacity'))\n",
    "# #     if button_element.is_enabled() == False:\n",
    "# #         driver.quit()\n",
    "# #         break\n",
    "#     button_element.click()\n",
    "# print('hahahah')\n",
    "# a = driver.find_elements_by_class_name('_3pA6R')[1]\n",
    "for _ in range(1):\n",
    "    delay_int = np.random.randint(1, 5)\n",
    "    delay = np.random.rand() + delay_int\n",
    "    # scroll container 의 xpath 를 찾음\n",
    "    scroll_container = driver.find_element_by_id('_pcmap_list_scroll_container')\n",
    "    driver.implicitly_wait(delay)\n",
    "    # 맛집 목록의 스크롤을 내림\n",
    "#     for _ in range(7):\n",
    "    for _ in range(1):\n",
    "        driver.execute_script(\"arguments[0].scrollTop = arguments[0].scrollHeight\", scroll_container)\n",
    "        time.sleep(1)\n",
    "        # test 하기 위해 스크롤을 전부 내린 후 스샷으로 저장\n",
    "        # driver.get_screenshot_as_file('s3.png')\n",
    "        # [@class=\"Tx7az\" \"_36o75 _3jJcF\"]\n",
    "        # 식당 클릭\n",
    "    # scroll container 안의 모든 식당들을 클릭하기\n",
    "    elements = driver.find_elements_by_xpath('//*[@class=\"Tx7az\"]')\n",
    "    for element in elements:\n",
    "        delay_int = np.random.randint(1, 5)\n",
    "        delay = np.random.rand() + delay_int\n",
    "        element.click()  # element, 상호명으로 된 버튼을 클릭함\n",
    "        # 클릭하면 새로운 html 이 생성됨, 그것에 접속하고 그 html 을 beautiful soup 에 넣어 html 을 크롤링해야함\n",
    "        time.sleep(5)\n",
    "        driver.switch_to.default_content()  # 상위 프레임으로 전환 (root frame)\n",
    "        # 가게 정보 html 로 전환\n",
    "        info_frame = driver.find_element_by_id('entryIframe')\n",
    "        driver.switch_to.frame(info_frame)\n",
    "        driver.implicitly_wait(delay)\n",
    "        # 소스 가져오기\n",
    "        req = driver.page_source\n",
    "        soup = BeautifulSoup(req, 'html.parser')\n",
    "        title = soup.select('#_title')\n",
    "        # 이름, 카테고리\n",
    "        for child in title:\n",
    "            name.append(child.contents[0].string)\n",
    "            category.append(child.contents[1].string)\n",
    "        # 주소\n",
    "        location.append(soup.select('._2yqUQ')[0].string)\n",
    "        # 별점, 방문자리뷰, 블로그리뷰\n",
    "        points = title[0].find_next_siblings()[0].find_all('span')\n",
    "        # 3개에서 하나라도 없으면 패스\n",
    "        if len(points) != 3:\n",
    "            driver.switch_to.default_content()\n",
    "            driver.switch_to.frame(scroll_frame)\n",
    "            continue\n",
    "        # 평점, 방문자 리뷰 개수, 블로그 리뷰 추가\n",
    "#         rating.append(float(list(points[0].strings)[0]))\n",
    "#         review_count.append(int(list(points[1].strings)[2].replace(',', '')))\n",
    "#         blog_count.append(int(list(points[2].strings)[2]))\n",
    "        #     for point in points:\n",
    "        #         if '/5' in point.strings:\n",
    "        #             rating.append(float(list(point.strings)[0]))\n",
    "        #         elif '방문자리뷰' in point.strings:\n",
    "        #             review_count.append(int(list(point.strings)[2].replace(',', '')))\n",
    "        #         elif '블로그리뷰' in point.strings:\n",
    "        #             blog_count.append(int(list(point.strings)[2]))\n",
    "        # 상위 프레임으로 전환 (root frame)\n",
    "        driver.switch_to.default_content()\n",
    "        driver.switch_to.frame(scroll_frame)\n",
    "        # 크롤링 소스 ~~\n",
    "        # 크롤링 소스\n",
    "        # test 하기 위해 상호를 클릭할 때마다 스샷을 찍어 저장함\n",
    "        # driver.get_screenshot_as_file(str(idx) + '.png')\n",
    "    # ******** 여기서 부터 html\n",
    "    a = driver.find_elements_by_class_name('_3pA6R')[1]\n",
    "    driver.find_elements_by_class_name('_3pA6R')[1].click()\n",
    "driver.quit()\n",
    "# time.sleep(delay)\n",
    "#\n",
    "# driver.get_screenshot_as_file('s3.png')"
   ]
  },
  {
   "cell_type": "code",
   "execution_count": 27,
   "metadata": {},
   "outputs": [
    {
     "data": {
      "text/plain": [
       "10"
      ]
     },
     "execution_count": 27,
     "metadata": {},
     "output_type": "execute_result"
    }
   ],
   "source": [
    "len(name)"
   ]
  },
  {
   "cell_type": "code",
   "execution_count": 28,
   "metadata": {},
   "outputs": [
    {
     "data": {
      "text/plain": [
       "10"
      ]
     },
     "execution_count": 28,
     "metadata": {},
     "output_type": "execute_result"
    }
   ],
   "source": [
    "len(category)"
   ]
  },
  {
   "cell_type": "code",
   "execution_count": 19,
   "metadata": {},
   "outputs": [
    {
     "data": {
      "text/plain": [
       "29"
      ]
     },
     "execution_count": 19,
     "metadata": {},
     "output_type": "execute_result"
    }
   ],
   "source": [
    "len(rating)"
   ]
  },
  {
   "cell_type": "code",
   "execution_count": 20,
   "metadata": {},
   "outputs": [
    {
     "data": {
      "text/plain": [
       "29"
      ]
     },
     "execution_count": 20,
     "metadata": {},
     "output_type": "execute_result"
    }
   ],
   "source": [
    "len(review_count)"
   ]
  },
  {
   "cell_type": "code",
   "execution_count": 21,
   "metadata": {},
   "outputs": [
    {
     "data": {
      "text/plain": [
       "29"
      ]
     },
     "execution_count": 21,
     "metadata": {},
     "output_type": "execute_result"
    }
   ],
   "source": [
    "len(blog_count)"
   ]
  },
  {
   "cell_type": "code",
   "execution_count": 29,
   "metadata": {},
   "outputs": [
    {
     "data": {
      "text/plain": [
       "10"
      ]
     },
     "execution_count": 29,
     "metadata": {},
     "output_type": "execute_result"
    }
   ],
   "source": [
    "len(location)"
   ]
  },
  {
   "cell_type": "code",
   "execution_count": 34,
   "metadata": {},
   "outputs": [
    {
     "data": {
      "text/html": [
       "<div>\n",
       "<style scoped>\n",
       "    .dataframe tbody tr th:only-of-type {\n",
       "        vertical-align: middle;\n",
       "    }\n",
       "\n",
       "    .dataframe tbody tr th {\n",
       "        vertical-align: top;\n",
       "    }\n",
       "\n",
       "    .dataframe thead th {\n",
       "        text-align: right;\n",
       "    }\n",
       "</style>\n",
       "<table border=\"1\" class=\"dataframe\">\n",
       "  <thead>\n",
       "    <tr style=\"text-align: right;\">\n",
       "      <th></th>\n",
       "      <th>0</th>\n",
       "      <th>1</th>\n",
       "      <th>2</th>\n",
       "      <th>3</th>\n",
       "      <th>4</th>\n",
       "      <th>5</th>\n",
       "      <th>6</th>\n",
       "      <th>7</th>\n",
       "      <th>8</th>\n",
       "      <th>9</th>\n",
       "    </tr>\n",
       "  </thead>\n",
       "  <tbody>\n",
       "    <tr>\n",
       "      <th>이름</th>\n",
       "      <td>화기애애</td>\n",
       "      <td>마초쉐프 강남본점</td>\n",
       "      <td>강남명전</td>\n",
       "      <td>스시산원 반주헌</td>\n",
       "      <td>을지다락 강남</td>\n",
       "      <td>구구당</td>\n",
       "      <td>자매수산</td>\n",
       "      <td>플랫나인</td>\n",
       "      <td>리퍼크</td>\n",
       "      <td>강남 곱</td>\n",
       "    </tr>\n",
       "    <tr>\n",
       "      <th>카테고리</th>\n",
       "      <td>육류,고기요리</td>\n",
       "      <td>이탈리아음식</td>\n",
       "      <td>전,빈대떡</td>\n",
       "      <td>요리주점</td>\n",
       "      <td>양식</td>\n",
       "      <td>퓨전음식</td>\n",
       "      <td>생선회</td>\n",
       "      <td>양식</td>\n",
       "      <td>카페</td>\n",
       "      <td>곱창,막창,양</td>\n",
       "    </tr>\n",
       "    <tr>\n",
       "      <th>주소</th>\n",
       "      <td>서울 강남구 강남대로106길 12 화기애애</td>\n",
       "      <td>서울 강남구 강남대로98길 16 파빌리온빌딩 6, 7층</td>\n",
       "      <td>서울 서초구 강남대로65길 12 1층 강남명전</td>\n",
       "      <td>서울 강남구 테헤란로4길 6 센트럴푸르지오시티 지하2층 224호</td>\n",
       "      <td>서울 강남구 강남대로96길 22 2층</td>\n",
       "      <td>서울 강남구 강남대로102길 35 구구당</td>\n",
       "      <td>서울 서초구 서초대로77길 55 에이프로 스퀘어</td>\n",
       "      <td>서울 서초구 강남대로65길 10 5층</td>\n",
       "      <td>서울 강남구 강남대로 382 메리츠타워 1층</td>\n",
       "      <td>서울 강남구 역삼로3길 12</td>\n",
       "    </tr>\n",
       "  </tbody>\n",
       "</table>\n",
       "</div>"
      ],
      "text/plain": [
       "                            0                               1  \\\n",
       "이름                       화기애애                       마초쉐프 강남본점   \n",
       "카테고리                  육류,고기요리                          이탈리아음식   \n",
       "주소    서울 강남구 강남대로106길 12 화기애애  서울 강남구 강남대로98길 16 파빌리온빌딩 6, 7층   \n",
       "\n",
       "                              2                                    3  \\\n",
       "이름                         강남명전                             스시산원 반주헌   \n",
       "카테고리                      전,빈대떡                                 요리주점   \n",
       "주소    서울 서초구 강남대로65길 12 1층 강남명전  서울 강남구 테헤란로4길 6 센트럴푸르지오시티 지하2층 224호   \n",
       "\n",
       "                         4                       5  \\\n",
       "이름                 을지다락 강남                     구구당   \n",
       "카테고리                    양식                    퓨전음식   \n",
       "주소    서울 강남구 강남대로96길 22 2층  서울 강남구 강남대로102길 35 구구당   \n",
       "\n",
       "                               6                     7  \\\n",
       "이름                          자매수산                  플랫나인   \n",
       "카테고리                         생선회                    양식   \n",
       "주소    서울 서초구 서초대로77길 55 에이프로 스퀘어  서울 서초구 강남대로65길 10 5층   \n",
       "\n",
       "                             8                9  \n",
       "이름                         리퍼크             강남 곱  \n",
       "카테고리                        카페          곱창,막창,양  \n",
       "주소    서울 강남구 강남대로 382 메리츠타워 1층  서울 강남구 역삼로3길 12  "
      ]
     },
     "execution_count": 34,
     "metadata": {},
     "output_type": "execute_result"
    }
   ],
   "source": [
    "df = pd.DataFrame([name, category, location], index=pd.Index(['이름', '카테고리', '주소']))\n",
    "df"
   ]
  },
  {
   "cell_type": "code",
   "execution_count": null,
   "metadata": {},
   "outputs": [],
   "source": []
  }
 ],
 "metadata": {
  "kernelspec": {
   "display_name": "Python 3",
   "language": "python",
   "name": "python3"
  },
  "language_info": {
   "codemirror_mode": {
    "name": "ipython",
    "version": 3
   },
   "file_extension": ".py",
   "mimetype": "text/x-python",
   "name": "python",
   "nbconvert_exporter": "python",
   "pygments_lexer": "ipython3",
   "version": "3.8.3"
  }
 },
 "nbformat": 4,
 "nbformat_minor": 4
}
